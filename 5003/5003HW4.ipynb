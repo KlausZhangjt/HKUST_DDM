{
 "cells": [
  {
   "cell_type": "markdown",
   "id": "b9340a37-e49f-4a5a-ba14-4ea3fe949119",
   "metadata": {},
   "source": [
    "# 5003 HW4"
   ]
  },
  {
   "cell_type": "markdown",
   "id": "6cbf8bac-1e9d-409c-ba6d-20ff21507cb6",
   "metadata": {},
   "source": [
    "## ZHANG Juntao - 20908272"
   ]
  },
  {
   "cell_type": "markdown",
   "id": "efe45835-7b11-4f82-9c71-af2e12a355b0",
   "metadata": {},
   "source": [
    "Some required packages"
   ]
  },
  {
   "cell_type": "code",
   "execution_count": 1,
   "id": "aa3bb8b2-281c-4286-9e50-0b421bf266a8",
   "metadata": {},
   "outputs": [],
   "source": [
    "import numpy as np\n",
    "import seaborn as sns\n",
    "import matplotlib.pyplot as plt\n",
    "from scipy.stats import norm"
   ]
  },
  {
   "cell_type": "markdown",
   "id": "199228ea-eab0-4a95-99df-ca6308b392b6",
   "metadata": {},
   "source": [
    "#### Get the value of $a$"
   ]
  },
  {
   "cell_type": "markdown",
   "id": "5636b80e-84ae-4559-8b7c-1a11184d948e",
   "metadata": {},
   "source": [
    "$f(x)=a e^{-U(x) / k_{\\mathrm{B}} T}$, where $U(x)=\\frac{1}{2} k x^2$ and $k_B T / k=1$ $\\Rightarrow f(x)=a e^{-\\frac{1}{2} x^2}$\n",
    "\n",
    "\n",
    "From $\\int_{-\\infty}^{\\infty} f(x) d x=1$, we can get: $\\frac{1}{a}=\\int_{-\\infty}^{\\infty} e^{-\\frac{1}{2} x^2} d x$\n",
    "\n",
    "Let $I=\\int_{-\\infty}^{\\infty} e^{-\\frac{1}{2} x^2} d x$\n",
    "\n",
    "$$\n",
    "\\begin{aligned}\n",
    "I^2 &=\\int_{-\\infty}^{\\infty} e^{-\\frac{1}{2} \\pi^2} d x \\int_{-\\infty}^{\\infty} e^{-\\frac{1}{2} y^2} d y \\\\\n",
    "&=\\int_{-\\infty}^{\\infty} d x \\int_{-\\infty}^{\\infty} d y  e^{-\\frac{1}{2}\\left(x^2+y^2\\right)} \\\\\n",
    "&=\\int_0^{2 \\pi} d \\theta \\int_0^{\\infty}  r e^{-\\frac{1}{2} r^2} d r \\\\\n",
    "&=2 \\pi\n",
    "\\end{aligned}\n",
    "$$\n",
    "Thus, $I=\\sqrt{2 \\pi} $ $\\Rightarrow a=\\frac{1}{\\sqrt{2 \\pi}}$\n",
    "\n",
    "i.e. $f(x)=\\frac{1}{\\sqrt{2 \\pi}} e^{-\\frac{1}{2} x^2}$, which is the PDF of $N(0,1)$"
   ]
  },
  {
   "cell_type": "markdown",
   "id": "61234ba3-2ecf-451f-9950-29e2f73f0387",
   "metadata": {},
   "source": [
    "### $Problem (a)$:"
   ]
  },
  {
   "cell_type": "markdown",
   "id": "fa96a1ce-f36c-42e4-8517-30616210e6b0",
   "metadata": {},
   "source": [
    "#### Use the Metropolis algorithm to generate a Markov chain according to $f(x)$"
   ]
  },
  {
   "cell_type": "markdown",
   "id": "d0eba789-3c4b-4d7f-af50-ae245bfb3cf1",
   "metadata": {},
   "source": [
    "Define function to generate configurations with a probability $exp(- E / k_B T)$:\n",
    "\n",
    "- generate_state"
   ]
  },
  {
   "cell_type": "code",
   "execution_count": 2,
   "id": "b6d88564-0fb7-48cb-a7b6-f6c81181a9aa",
   "metadata": {},
   "outputs": [],
   "source": [
    "def generate_state():\n",
    "    while True:\n",
    "        x = np.random.normal(0, 1)\n",
    "        prob = np.exp(-1/2 * x**2)\n",
    "        u = np.random.uniform(0,1)\n",
    "        if u <= prob:\n",
    "            return x"
   ]
  },
  {
   "cell_type": "markdown",
   "id": "0f9d97ea-e255-4aa9-93e3-54a03ffb47af",
   "metadata": {},
   "source": [
    "Define function to generate a Markov chain through $\"Metropolis Importance  Sampling  Algo\"$:\n",
    "\n",
    "- generate_seq"
   ]
  },
  {
   "cell_type": "code",
   "execution_count": 3,
   "id": "ab8a4e40-91c4-46da-a9e4-b5ddeefc23cf",
   "metadata": {},
   "outputs": [],
   "source": [
    "def generate_seq(total):\n",
    "    seq = []\n",
    "    x1 = generate_state()\n",
    "    seq.append(x1)\n",
    "    count = 0\n",
    "    while count <= total:\n",
    "        x_new = generate_state()\n",
    "        if x_new**2 < seq[-1]**2:\n",
    "            seq.append(x_new)\n",
    "        else:\n",
    "            p = np.exp(-1/2 * (x_new**2-seq[-1]**2))\n",
    "            r = np.random.uniform(0,1)\n",
    "            if r <= p:\n",
    "                seq.append(x_new)\n",
    "            else:\n",
    "                seq.append(seq[-1])\n",
    "        count += 1\n",
    "    return seq"
   ]
  },
  {
   "cell_type": "markdown",
   "id": "16596bd1-b2e0-4aaf-8244-a9f08ba11271",
   "metadata": {},
   "source": [
    "Generate a Markov chain(length is 1000002)and evaluate the expectation values of $X, X^{2}, X^{3}$ and $X^{4}$"
   ]
  },
  {
   "cell_type": "code",
   "execution_count": 4,
   "id": "48ca9ceb-b57a-4e7b-8e5e-8499e3cb4f07",
   "metadata": {},
   "outputs": [
    {
     "name": "stdout",
     "output_type": "stream",
     "text": [
      "The expectation value of x is: 3.065696590831337e-05\n",
      "The expectation value of x^2 is: 0.33306846636344944\n",
      "The expectation value of x^3 is: -3.640361843767445e-05\n",
      "The expectation value of x^4 is: 0.3325923902304039\n"
     ]
    }
   ],
   "source": [
    "np.random.seed(77)\n",
    "\n",
    "length = 1000000\n",
    "s = generate_seq(length)  \n",
    "print('The expectation value of x is:', np.mean(s))\n",
    "\n",
    "s_2 = list(map(lambda x: x**2, s))\n",
    "print(\"The expectation value of x^2 is:\", np.mean(s_2))\n",
    "\n",
    "s_3 = list(map(lambda x: x**3, s))\n",
    "print(\"The expectation value of x^3 is:\", np.mean(s_3))\n",
    "\n",
    "s_4 = list(map(lambda x: x**4, s))\n",
    "print(\"The expectation value of x^4 is:\", np.mean(s_4))"
   ]
  },
  {
   "cell_type": "markdown",
   "id": "fbe13c6f-4e55-4419-be7b-c655bd0ccc56",
   "metadata": {},
   "source": [
    "#### Conclusion:"
   ]
  },
  {
   "cell_type": "markdown",
   "id": "ef69b917-e8b9-4aa1-86e5-0b3a334ba962",
   "metadata": {},
   "source": [
    "The expectation value of $ X$ is: 3.065696590831337e-05\n",
    "\n",
    "The expectation value of $X^{2}$ is: 0.33306846636344944\n",
    "\n",
    "The expectation value of $X^{3}$ is: -3.640361843767445e-05\n",
    "\n",
    "The expectation value of $X^{4}$ is: 0.3325923902304039"
   ]
  },
  {
   "cell_type": "markdown",
   "id": "c634acb3-4704-44a2-ba0b-cf87c1f27732",
   "metadata": {},
   "source": [
    "### $Problem (b)$:"
   ]
  },
  {
   "cell_type": "markdown",
   "id": "640f3230-7243-44e7-978c-c335c1c95259",
   "metadata": {},
   "source": [
    "#### Plot the histogram of the x values in the sequence and compare it with $f(x)$"
   ]
  },
  {
   "cell_type": "code",
   "execution_count": 5,
   "id": "4c9a0e23-1c36-4e64-9acb-b3e7b39df65d",
   "metadata": {},
   "outputs": [
    {
     "name": "stderr",
     "output_type": "stream",
     "text": [
      "/Users/klaus_zhangjt/opt/anaconda3/lib/python3.9/site-packages/seaborn/distributions.py:2619: FutureWarning: `distplot` is a deprecated function and will be removed in a future version. Please adapt your code to use either `displot` (a figure-level function with similar flexibility) or `histplot` (an axes-level function for histograms).\n",
      "  warnings.warn(msg, FutureWarning)\n"
     ]
    },
    {
     "data": {
      "image/png": "[encoded data removed]",
      "text/plain": [
       "<Figure size 864x576 with 1 Axes>"
      ]
     },
     "metadata": {
      "needs_background": "light"
     },
     "output_type": "display_data"
    }
   ],
   "source": [
    "plt.figure(figsize = (12,8))\n",
    "\n",
    "sns.set_style('darkgrid')\n",
    "sns.distplot(s, label='Histogram and fitted PDF of generated sequence')\n",
    "\n",
    "Z_step = np.arange(-5, 5, 0.001)\n",
    "Z_theoretical = norm.pdf(Z_step, loc=0, scale=1)\n",
    "plt.plot(Z_step,Z_theoretical, color='r', label='$f(x)$: PDF of $N(0, 1)$')\n",
    "\n",
    "plt.legend()\n",
    "plt.show()"
   ]
  },
  {
   "cell_type": "markdown",
   "id": "7ce2982a-2d25-4e18-970d-f03f9fd49189",
   "metadata": {},
   "source": [
    "#### Conclusion:"
   ]
  },
  {
   "cell_type": "markdown",
   "id": "fcafe1d5-17b8-4e0a-8bb3-ce01495de2c2",
   "metadata": {},
   "source": [
    "- The PDF of generated sequence is symmetrical about the y-axis, which is same with $f(x)$, i.e. they have same zero mean.\n",
    "\n",
    "- But it has a lanky shape compared with $f(x)$, which shows that it has a smaller variance.\n",
    "\n",
    "- The samples of the generated sequence are concentrated where the value of $f(x)$ is large,\n",
    "i.e. in original samples, more points are selected where the density is high, and few points are selected where the density  is low. It perfectly agrees with the aim of Metropolis Importance Sampling Algorithm."
   ]
  }
 ],
 "metadata": {
  "kernelspec": {
   "display_name": "Python 3 (ipykernel)",
   "language": "python",
   "name": "python3"
  },
  "language_info": {
   "codemirror_mode": {
    "name": "ipython",
    "version": 3
   },
   "file_extension": ".py",
   "mimetype": "text/x-python",
   "name": "python",
   "nbconvert_exporter": "python",
   "pygments_lexer": "ipython3",
   "version": "3.9.12"
  }
 },
 "nbformat": 4,
 "nbformat_minor": 5
}
